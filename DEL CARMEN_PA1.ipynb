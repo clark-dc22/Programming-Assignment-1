{
 "cells": [
  {
   "cell_type": "code",
   "execution_count": null,
   "id": "9142e5bc-b03b-4b5d-8193-54cdc69035bf",
   "metadata": {},
   "outputs": [],
   "source": [
    "#Create a function that takes a string and returns a string with its letters in alphabetical order.\n",
    "user_input = input(\"Enter a word: \")\n",
    "word = sorted(user_input)\n",
    "sort_alphabet = \"\".join(word)\n",
    "print(sort_alphabet)"
   ]
  },
  {
   "cell_type": "code",
   "execution_count": null,
   "id": "7299f002-0b7c-49c5-8f68-1bbe4e30ea8e",
   "metadata": {},
   "outputs": [],
   "source": [
    "#Create a function that changes specific words into emoticons. Given a sentence as a string, replace the words smile, grin, sad and mad with their corresponding emoticon\n",
    "def emoji(sentence):\n",
    "    emojis = {\"smile\" : \":)\", \"grin\" : \":D\", \"sad\" : \":((\", \"mad\" : \">:(\"}\n",
    "    return \" \".join(emojis.get(word.lower(), word) \n",
    "                  for word in sentence.split())\n",
    "\n",
    "emoticon = input(\"Enter a sentence: \")\n",
    "print(emoji(emoticon))"
   ]
  },
  {
   "cell_type": "code",
   "execution_count": null,
   "id": "ee81a069-4493-4455-9a70-1fedf7be659e",
   "metadata": {},
   "outputs": [],
   "source": [
    "#Unpack the list writeyourcodehere into three variables, being first, middle, and last, with middle being everything in between the first and last element. Then print all three variables.\n",
    "def unpack_list(lst):\n",
    "    return lst[0], lst[1:-1], lst[-1]\n",
    "\n",
    "list = [1, 2, 3, 4, 5, 6]\n",
    "first, middle, last = unpack_list(list)\n",
    "print(f\"list: {list}\")\n",
    "print(f\"first: {first}\")\n",
    "print(f\"middle: {middle}\")\n",
    "print(f\"last: {last}\")"
   ]
  }
 ],
 "metadata": {
  "kernelspec": {
   "display_name": "Python [conda env:base] *",
   "language": "python",
   "name": "conda-base-py"
  },
  "language_info": {
   "codemirror_mode": {
    "name": "ipython",
    "version": 3
   },
   "file_extension": ".py",
   "mimetype": "text/x-python",
   "name": "python",
   "nbconvert_exporter": "python",
   "pygments_lexer": "ipython3",
   "version": "3.13.5"
  }
 },
 "nbformat": 4,
 "nbformat_minor": 5
}
